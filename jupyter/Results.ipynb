{
 "cells": [
  {
   "cell_type": "markdown",
   "id": "c35255cc-28c3-4605-bbbf-e9c91c6aea71",
   "metadata": {},
   "source": [
    "# What's up with `.nyc`\n",
    "\n",
    "All websites have a top-level domain (TLD) that is used to indicate the purpose of the website. For example, `.com`, `.org`, `.sucks`, `.io`, and many others.\n",
    "\n",
    "The `.nyc` TLD is a bit of an outlier. There are only [a handful of TLDs](https://en.wikipedia.org/wiki/List_of_Internet_top-level_domains#Geographic_top-level_domains) that are used to indicate a specific geographic area that's *not* an entire country. Said another way, most cities or geographic areas don't have their own TLD. While it's easy for internet users to navigate, it's certainly not common practice for websites to use a geographically-focused TLD like `.nyc`.\n",
    "\n",
    "That said, I was curious exactly how `.nyc` has been used since its introduction as a generally-available TLD in 2014. Thankfully, [NYC OpenData maintains an open data source for `.nyc` Domain Registrations](https://data.cityofnewyork.us/Business/-nyc-Domain-Registrations/9cw8-7heb/about_data) that can be used to understand the history and use of `.nyc` domains.\n",
    "\n",
    "This project is exploratory, without a particular hypothesis in mind. I'm aiming to understand and visualize `.nyc` TLD usage over time, and connect it to real-world events and trends when possible.\n",
    "\n",
    "## Quick reference on URLs\n",
    "\n",
    "Before we get started, a quick background on URLs. Skip to the next section if you're already familiar, or use this as a reference as you read.\n",
    "\n",
    "Websites are a set of content–text, images, interactive elements–located at a **URL** (Uniform Resource Locator), which is like a digital address. When we navigate to a URL in a web browser, we're requesting the data located at that address.\n",
    "\n",
    "Just like real-world geograph addresses, URLs have multiple components:\n",
    "\n",
    "- **Domain name** - The domain name is what we commonly think of as a website name, and is a combination of all domain components. For example, `example.com`, `www.baileykane.co`, and `docs.google.com` are all domain names. Each component is separated by a `.`.\n",
    "- **Top-level domain (TLD)** - The top-level domain is the highest level of a domain name. It's used to tell users the general purpose of the website. For example, `.com` is used for commercial websites, `.org` is used for other types of organizations, `.gov` is used for government websites, and `.fr` is used for websites in French / hosted in France. In a full domain name, the **TLD** is the right-most piece.\n",
    "- **Secondary Level Domain (SLD)** - The domain component immediately before the TLD. Many websites *only* have a SLD, without any additional domain components. For example `example.com` or `bsky.app`.\n",
    "- **Subdomain** - The domain components preceding the SLD. These are optional, and are used to separate functions, services, or content for a specific domain name. For example, `developer.mozilla.org`, where `developer` is the subdomain.\n",
    "- **Path** - The path within a website to a specific resource, or page. For example, `baileykane.co/recipes` navigates to the `recipes` page on the `baileykane.co` domain name.\n",
    "- **Scheme** - The beginning of a URL defines the **Scheme**, or the way that the browser needs to request the data at this URL. Most commonly this is `https` or `http` (the insecure version of `https`), which are the modern standard used to access website content. This could also be `mailto` for opening an email client, or `tel` for opening a phone call client.\n",
    "\n",
    "*There's more to learn about URLs, and some things were simplified here, but we don't need more detail for this project. [See Mozilla's documentation for more information.](https://developer.mozilla.org/en-US/docs/Learn/Common_questions/Web_mechanics/What_is_a_URL)*"
   ]
  }
 ],
 "metadata": {
  "kernelspec": {
   "display_name": "Python 3",
   "language": "python",
   "name": "python3"
  },
  "language_info": {
   "codemirror_mode": {
    "name": "ipython",
    "version": 3
   },
   "file_extension": ".py",
   "mimetype": "text/x-python",
   "name": "python",
   "nbconvert_exporter": "python",
   "pygments_lexer": "ipython3",
   "version": "3.13.0"
  }
 },
 "nbformat": 4,
 "nbformat_minor": 5
}
