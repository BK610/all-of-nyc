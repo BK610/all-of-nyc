{
 "cells": [
  {
   "cell_type": "markdown",
   "id": "c35255cc-28c3-4605-bbbf-e9c91c6aea71",
   "metadata": {},
   "source": [
    "# What's up with `.nyc`\n",
    "\n",
    "All websites have a top-level domain (TLD) that is used to indicate the purpose of the website. For example, `.com`, `.org`, `.sucks`, `.io`, and many others.\n",
    "\n",
    "The `.nyc` TLD is a bit of an outlier. There are only [a handful of TLDs](https://en.wikipedia.org/wiki/List_of_Internet_top-level_domains#Geographic_top-level_domains) that are used to indicate a specific geographic area that's *not* an entire country. Said another way, most cities or geographic areas don't have their own TLD. While it's easy for internet users to navigate, it's certainly not common practice for websites to use a geographically-focused TLD like `.nyc`.\n",
    "\n",
    "That said, I was curious exactly how `.nyc` has been used since its introduction as a generally-available TLD in 2014. Thankfully, [NYC OpenData maintains an open data source for `.nyc` Domain Registrations](https://data.cityofnewyork.us/Business/-nyc-Domain-Registrations/9cw8-7heb/about_data) that can be used to understand the history and use of `.nyc` domains.\n",
    "\n",
    "This project is exploratory, without a particular hypothesis in mind. I'm aiming to understand and visualize `.nyc` TLD usage over time, and connect it to real-world events and trends when possible."
   ]
  },
  {
   "cell_type": "markdown",
   "id": "8f3279e0",
   "metadata": {},
   "source": [
    "## Quick reference on URLs\n",
    "\n",
    "Before we get started, some quick background on URLs. Skip to the next section if you're already familiar, or use this as a reference as you read.\n",
    "\n",
    "Websites are a set of content–text, images, interactive elements–located at a **URL** (Uniform Resource Locator), which is like a digital address. When we navigate to a URL in a web browser, we're requesting the data located at that address.\n",
    "\n",
    "Just like real-world geograph addresses, URLs have multiple components:\n",
    "\n",
    "- **Domain name** - The domain name is what we commonly think of as a website name, and is a combination of all domain components. For example, `example.com`, `www.baileykane.co`, and `docs.google.com` are all domain names. Each component is separated by a `.`.\n",
    "- **Top-level domain (TLD)** - The top-level domain is the highest level of a domain name. It's used to tell users the general purpose of the website. For example, `.com` is used for commercial websites, `.org` is used for other types of organizations, `.gov` is used for government websites, and `.fr` is used for websites in French / hosted in France. In a full domain name, the **TLD** is the right-most piece.\n",
    "- **Secondary Level Domain (SLD)** - The domain component immediately before the TLD. Many websites *only* have a SLD, without any additional domain components. For example `example.com` or `bsky.app`.\n",
    "- **Subdomain** - The domain components preceding the SLD. These are optional, and are used to separate functions, services, or content for a specific domain name. For example, `developer.mozilla.org`, where `developer` is the subdomain.\n",
    "- **Path** - The path within a website to a specific resource, or page. For example, `baileykane.co/recipes` navigates to the `recipes` page on the `baileykane.co` domain name.\n",
    "- **Scheme** - The beginning of a URL defines the **Scheme**, or the way that the browser needs to request the data at this URL. Most commonly this is `https` or `http` (the insecure version of `https`), which are the modern standard used to access website content. This could also be `mailto` for opening an email client, or `tel` for opening a phone call client.\n",
    "\n",
    "*There's more to learn about URLs, and some things were simplified here, but we don't need more detail for this project. [See Mozilla's documentation for more information.](https://developer.mozilla.org/en-US/docs/Learn/Common_questions/Web_mechanics/What_is_a_URL)*"
   ]
  },
  {
   "cell_type": "markdown",
   "id": "31f73d7b",
   "metadata": {},
   "source": [
    "## Why `.nyc`\n",
    "\n",
    "Anyone can register a domain name with a common TLD like `.com`, so why choose `.nyc`?\n",
    "\n",
    "[From the `.nyc` registration site](https://www.ownit.nyc/what-is-nyc):\n",
    "\n",
    ">### What is .nyc?\n",
    ">\n",
    ">.nyc is The Official Web Address for New Yorkers. Anyone with a business, brand or residence within the five boroughs can register a .nyc domain name.\n",
    ">\n",
    ">**What does it mean to own a .nyc?**\n",
    ">\n",
    ">Own It. Our tagline is more than a call-to-action; it’s a state of mind. It’s the internal voice inside us: living, working, and creating, continually pushing to be the best.\n",
    ">\n",
    ">**Never settle.**\n",
    ">\n",
    ">New York City is the place where success takes many shapes and where there are countless ways to dream big. The .nyc extension provides infinite possibilities and a powerful way to use your location as proof of your value and success.\n",
    ">\n",
    ">**Stand out from the crowd.**\n",
    ">\n",
    ">Beyond having a physical street address or primary place of residence in the City, .nyc owners share a desire to be unforgettable, inspirational and above all, “make it” in New York.\n",
    "\n",
    "Let's find out if this is actually how `.nyc` domains are being used."
   ]
  },
  {
   "cell_type": "markdown",
   "id": "d6a6d38b",
   "metadata": {},
   "source": [
    "## `.nyc` Open Data\n",
    "\n",
    "The existing [data on `.nyc` registrations from NYC Open Data](https://data.cityofnewyork.us/Business/-nyc-Domain-Registrations/9cw8-7heb/about_data) is available in multiple formats. For the sake of easily understanding and processing the data, we'll imagine it in a `CSV` file. There are three columns:\n",
    "\n",
    "| URL | Registration Date | Nexus Category |\n",
    "|---|---|---|\n",
    "|caffeine.nyc|12/23/2015 05:39:04 PM|INDIV|\n",
    "|flirts.nyc|02/18/2024 06:56:50 PM|ORG|\n",
    "|aclipse.nyc|01/04/2017 06:06:11 AM|INDIV|\n",
    "| etc.|...|...|\n",
    "\n",
    "`URL` is the domain name that was registered, and `Registration Date` is the date and time that the registration was made.\n",
    "\n",
    "### Nexus Category\n",
    "\n",
    "`Nexus Category` was a new one for me. Nexus Categories are primarily used to indicate the type of person or entity registering domains with the `.us` TLD. There are [various options for each entity type](https://www.a2hosting.com/kb/getting-started-guide/registering-a-domain1/nexus-codes-and-us-domain-registration/), generally categorized into personal/individual, business, and foreign entity registration.\n",
    "\n",
    "`.nyc` domains simplify these categories to two:\n",
    "\n",
    "- **INDIV** - Described as, \"Private individual with a physical NYC street address\" on the domain registration form\n",
    "- **ORG** - Described as, \"Corporation or charity with a physical NYC street address\"\n",
    "\n",
    "This categorization is part of establishing proof of NYC presence by the registrant. I'm not sure how easily or strictly this is enforced, but the intent is to make sure that people who are registering `.nyc` domains are indeed living or operating within NYC.\n",
    "\n",
    "[More on the `.nyc` Nexus Policy.](https://www.ownit.nyc/policies/nyc-nexus-policy)"
   ]
  }
 ],
 "metadata": {
  "kernelspec": {
   "display_name": "Python 3",
   "language": "python",
   "name": "python3"
  },
  "language_info": {
   "codemirror_mode": {
    "name": "ipython",
    "version": 3
   },
   "file_extension": ".py",
   "mimetype": "text/x-python",
   "name": "python",
   "nbconvert_exporter": "python",
   "pygments_lexer": "ipython3",
   "version": "3.13.0"
  }
 },
 "nbformat": 4,
 "nbformat_minor": 5
}
